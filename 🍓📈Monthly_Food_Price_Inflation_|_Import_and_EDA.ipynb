{
  "metadata": {
    "kernelspec": {
      "language": "python",
      "display_name": "Python 3",
      "name": "python3"
    },
    "language_info": {
      "pygments_lexer": "ipython3",
      "nbconvert_exporter": "python",
      "version": "3.6.4",
      "file_extension": ".py",
      "codemirror_mode": {
        "name": "ipython",
        "version": 3
      },
      "name": "python",
      "mimetype": "text/x-python"
    },
    "colab": {
      "name": "🍓📈Monthly Food Price Inflation | Import and EDA",
      "provenance": [],
      "include_colab_link": true
    }
  },
  "nbformat_minor": 0,
  "nbformat": 4,
  "cells": [
    {
      "cell_type": "markdown",
      "metadata": {
        "id": "view-in-github",
        "colab_type": "text"
      },
      "source": [
        "<a href=\"https://colab.research.google.com/github/VictorSylva/kaggle/blob/main/%F0%9F%8D%93%F0%9F%93%88Monthly_Food_Price_Inflation_%7C_Import_and_EDA.ipynb\" target=\"_parent\"><img src=\"https://colab.research.google.com/assets/colab-badge.svg\" alt=\"Open In Colab\"/></a>"
      ]
    },
    {
      "source": [
        "# IMPORTANT: RUN THIS CELL IN ORDER TO IMPORT YOUR KAGGLE DATA SOURCES,\n",
        "# THEN FEEL FREE TO DELETE THIS CELL.\n",
        "# NOTE: THIS NOTEBOOK ENVIRONMENT DIFFERS FROM KAGGLE'S PYTHON\n",
        "# ENVIRONMENT SO THERE MAY BE MISSING LIBRARIES USED BY YOUR\n",
        "# NOTEBOOK.\n",
        "import kagglehub\n",
        "anshtanwar_monthly_food_price_estimates_path = kagglehub.dataset_download('anshtanwar/monthly-food-price-estimates')\n",
        "\n",
        "print('Data source import complete.')\n"
      ],
      "metadata": {
        "id": "OuTVwl3W3P56"
      },
      "cell_type": "code",
      "outputs": [],
      "execution_count": null
    },
    {
      "cell_type": "markdown",
      "source": [
        "<div style=\"border-radius:0px; border:#3eb489 solid; padding: 15px; background-color: chetwode; font-size:100%; text-align:center\">\n",
        "<center> <h1> Starter Notebook for the Dataset </h1>\n",
        "    <h3><a href=\"https://www.kaggle.com/datasets/anshtanwar/monthly-food-price-estimates\">\"Monthly Food Price Inflation\"</a></h3><br>\n",
        "\n",
        "<center><div style=\"border-radius:0px; border:3eb489 ; padding: 12px; background-color: e6f2e6; font-size:110%; text-align:center\">Welcome to this starter notebook on \"Monthly Food Price Inflation\" Dataset. This data set includes Global Food Price Estimates and Inflation by Product, Market, and Country. It includes food price estimates and is intended to help gain insight into price developments <br>This notebook serves as a starting point for analysis. Do fork it to customize to your specific usecases and interests</div>\n"
      ],
      "metadata": {
        "id": "87fBZSeZ3P59"
      }
    },
    {
      "cell_type": "markdown",
      "source": [
        "## <div style=\"border-radius:0px; border:#3eb489 solid; padding: 15px; background-color: #ddefdd; font-size:100%; text-align:center\">1. Import Libraries</div>"
      ],
      "metadata": {
        "id": "Hsmnr69T3P6A"
      }
    },
    {
      "cell_type": "code",
      "source": [
        "!pip install ydata-profiling\n",
        "import numpy as np\n",
        "import pandas as pd\n",
        "import pandas as pd\n",
        "from ydata_profiling import ProfileReport\n",
        "import warnings\n",
        "warnings.filterwarnings(\"ignore\")\n",
        "\n"
      ],
      "metadata": {
        "_kg_hide-output": true,
        "id": "Z0jxHICd3P6B"
      },
      "execution_count": null,
      "outputs": []
    },
    {
      "cell_type": "code",
      "source": [
        "\n",
        "df1 = pd.read_csv('/kaggle/input/monthly-food-price-estimates/WLD_RTFP_country_2023-10-02.csv')\n",
        "df2 = pd.read_csv('/kaggle/input/monthly-food-price-estimates/WLD_RTFP_mkt_2023-10-02.csv')\n",
        "df3 = pd.read_csv('/kaggle/input/monthly-food-price-estimates/WLD_RTP_details_2023-10-02.csv')\n"
      ],
      "metadata": {
        "execution": {
          "iopub.status.busy": "2023-10-08T08:34:07.63327Z",
          "iopub.execute_input": "2023-10-08T08:34:07.633696Z",
          "iopub.status.idle": "2023-10-08T08:34:26.54221Z",
          "shell.execute_reply.started": "2023-10-08T08:34:07.633625Z",
          "shell.execute_reply": "2023-10-08T08:34:26.541087Z"
        },
        "trusted": true,
        "id": "u8nzii4I3P6C"
      },
      "execution_count": null,
      "outputs": []
    },
    {
      "cell_type": "code",
      "source": [
        "df1.head()"
      ],
      "metadata": {
        "execution": {
          "iopub.status.busy": "2023-10-08T08:34:40.436705Z",
          "iopub.execute_input": "2023-10-08T08:34:40.437126Z",
          "iopub.status.idle": "2023-10-08T08:34:40.464139Z",
          "shell.execute_reply.started": "2023-10-08T08:34:40.437096Z",
          "shell.execute_reply": "2023-10-08T08:34:40.46297Z"
        },
        "trusted": true,
        "id": "TS7nWu5n3P6D"
      },
      "execution_count": null,
      "outputs": []
    },
    {
      "cell_type": "code",
      "source": [
        "df2.head()"
      ],
      "metadata": {
        "execution": {
          "iopub.status.busy": "2023-10-08T08:34:48.119991Z",
          "iopub.execute_input": "2023-10-08T08:34:48.120607Z",
          "iopub.status.idle": "2023-10-08T08:34:48.145527Z",
          "shell.execute_reply.started": "2023-10-08T08:34:48.120577Z",
          "shell.execute_reply": "2023-10-08T08:34:48.144799Z"
        },
        "trusted": true,
        "id": "CKKkgdhJ3P6E"
      },
      "execution_count": null,
      "outputs": []
    },
    {
      "cell_type": "code",
      "source": [
        "df3.head()"
      ],
      "metadata": {
        "execution": {
          "iopub.status.busy": "2023-10-08T08:35:00.153066Z",
          "iopub.execute_input": "2023-10-08T08:35:00.153826Z",
          "iopub.status.idle": "2023-10-08T08:35:00.182942Z",
          "shell.execute_reply.started": "2023-10-08T08:35:00.15376Z",
          "shell.execute_reply": "2023-10-08T08:35:00.18085Z"
        },
        "trusted": true,
        "id": "oiHQHYho3P6F"
      },
      "execution_count": null,
      "outputs": []
    },
    {
      "cell_type": "markdown",
      "source": [
        "## <div style=\"border-radius:0px; border:#3eb489 solid; padding: 15px; background-color: #ddefdd; font-size:100%; text-align:center\">Use ydata-profiling for EDA</div>"
      ],
      "metadata": {
        "id": "E1pVmD0g3P6G"
      }
    },
    {
      "cell_type": "code",
      "source": [
        "profile = ProfileReport(df1,title=\"Monthly Food Price Inflation Estimates By Country: Profiling Report\", explorative=True,)\n",
        "profile.to_file(\"output1.html\")"
      ],
      "metadata": {
        "execution": {
          "iopub.status.busy": "2023-10-08T08:37:56.165227Z",
          "iopub.execute_input": "2023-10-08T08:37:56.165617Z",
          "iopub.status.idle": "2023-10-08T08:38:20.541724Z",
          "shell.execute_reply.started": "2023-10-08T08:37:56.165587Z",
          "shell.execute_reply": "2023-10-08T08:38:20.540472Z"
        },
        "trusted": true,
        "id": "UrO5Z79s3P6H"
      },
      "execution_count": null,
      "outputs": []
    },
    {
      "cell_type": "code",
      "source": [
        "profile = ProfileReport(df3,title=\"Monthly food price estimates by product and market: Profiling Report\", explorative=True,)\n",
        "profile.to_file(\"output3.html\")"
      ],
      "metadata": {
        "execution": {
          "iopub.status.busy": "2023-10-08T08:38:51.646782Z",
          "iopub.execute_input": "2023-10-08T08:38:51.647186Z",
          "iopub.status.idle": "2023-10-08T08:39:26.303945Z",
          "shell.execute_reply.started": "2023-10-08T08:38:51.647155Z",
          "shell.execute_reply": "2023-10-08T08:39:26.3029Z"
        },
        "trusted": true,
        "id": "JQOZM1_U3P6I"
      },
      "execution_count": null,
      "outputs": []
    },
    {
      "cell_type": "markdown",
      "source": [
        "## <div style=\"border-radius:0px; border:#3eb489 solid; padding: 15px; background-color: #ddefdd; font-size:100%; text-align:center\">👇 Viewing the report</div>"
      ],
      "metadata": {
        "id": "jXhllph-3P6J"
      }
    },
    {
      "cell_type": "code",
      "source": [
        "from IPython.display import HTML # import the HTML object\n",
        "HTML(filename='output1.html') # render the file as a web page\n"
      ],
      "metadata": {
        "execution": {
          "iopub.status.busy": "2023-10-08T08:50:00.655318Z",
          "iopub.execute_input": "2023-10-08T08:50:00.655652Z",
          "iopub.status.idle": "2023-10-08T08:50:00.755753Z",
          "shell.execute_reply.started": "2023-10-08T08:50:00.655617Z",
          "shell.execute_reply": "2023-10-08T08:50:00.754008Z"
        },
        "trusted": true,
        "id": "ubMpqswI3P6K"
      },
      "execution_count": null,
      "outputs": []
    },
    {
      "cell_type": "code",
      "source": [
        "\n",
        "HTML(filename='output3.html') # render the file as a web page"
      ],
      "metadata": {
        "id": "SYBaNrnK3P6L"
      },
      "execution_count": null,
      "outputs": []
    },
    {
      "cell_type": "markdown",
      "source": [
        "## <div style=\"border-radius:0px; border:#3eb489 solid; padding: 15px; background-color: ; font-size:100%; text-align:center\">If you find this dataset useful, your support through an upvote would be greatly appreciated </div>"
      ],
      "metadata": {
        "id": "X-jW_F0l3P6L"
      }
    }
  ]
}