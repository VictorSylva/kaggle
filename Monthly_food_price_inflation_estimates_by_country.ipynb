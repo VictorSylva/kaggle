{
  "metadata": {
    "kernelspec": {
      "language": "python",
      "display_name": "Python 3",
      "name": "python3"
    },
    "language_info": {
      "pygments_lexer": "ipython3",
      "nbconvert_exporter": "python",
      "version": "3.6.4",
      "file_extension": ".py",
      "codemirror_mode": {
        "name": "ipython",
        "version": 3
      },
      "name": "python",
      "mimetype": "text/x-python"
    },
    "colab": {
      "provenance": [],
      "include_colab_link": true
    }
  },
  "nbformat_minor": 0,
  "nbformat": 4,
  "cells": [
    {
      "cell_type": "markdown",
      "metadata": {
        "id": "view-in-github",
        "colab_type": "text"
      },
      "source": [
        "<a href=\"https://colab.research.google.com/github/VictorSylva/kaggle/blob/main/Monthly_food_price_inflation_estimates_by_country.ipynb\" target=\"_parent\"><img src=\"https://colab.research.google.com/assets/colab-badge.svg\" alt=\"Open In Colab\"/></a>"
      ]
    },
    {
      "source": [
        "# IMPORTANT: RUN THIS CELL IN ORDER TO IMPORT YOUR KAGGLE DATA SOURCES,\n",
        "# THEN FEEL FREE TO DELETE THIS CELL.\n",
        "# NOTE: THIS NOTEBOOK ENVIRONMENT DIFFERS FROM KAGGLE'S PYTHON\n",
        "# ENVIRONMENT SO THERE MAY BE MISSING LIBRARIES USED BY YOUR\n",
        "# NOTEBOOK.\n",
        "import kagglehub\n",
        "harshalhonde_monthly_food_price_inflation_estimates_by_country_path = kagglehub.dataset_download('harshalhonde/monthly-food-price-inflation-estimates-by-country')\n",
        "\n",
        "print('Data source import complete.')\n"
      ],
      "metadata": {
        "id": "nIG6-at4ywjl"
      },
      "cell_type": "code",
      "outputs": [],
      "execution_count": null
    },
    {
      "cell_type": "markdown",
      "source": [
        "# **IMPORT OUR LIBRARIES**"
      ],
      "metadata": {
        "id": "XZ4U4X6Sywjp"
      }
    },
    {
      "cell_type": "code",
      "source": [
        "import pandas as pd #Let's import the libraries that we'll use\n",
        "import numpy as np\n",
        "import matplotlib.pyplot as plt\n",
        "import seaborn as sns\n",
        "from statsmodels.tsa.stattools import adfuller\n",
        "from statsmodels.tsa.arima.model import ARIMA\n",
        "from statsmodels.graphics.tsaplots import plot_acf, plot_pacf\n",
        "from sklearn.metrics import mean_squared_error"
      ],
      "metadata": {
        "execution": {
          "iopub.status.busy": "2023-08-18T11:47:22.616906Z",
          "iopub.execute_input": "2023-08-18T11:47:22.617379Z",
          "iopub.status.idle": "2023-08-18T11:47:22.625515Z",
          "shell.execute_reply.started": "2023-08-18T11:47:22.617343Z",
          "shell.execute_reply": "2023-08-18T11:47:22.623869Z"
        },
        "trusted": true,
        "id": "PjE4nvTmywjt"
      },
      "execution_count": null,
      "outputs": []
    },
    {
      "cell_type": "code",
      "source": [
        "#Load our data\n",
        "\n",
        "inflation = pd.read_csv('/kaggle/input/monthly-food-price-inflation-estimates-by-country/WLD_RTFP_country_2023-07-31.csv')"
      ],
      "metadata": {
        "execution": {
          "iopub.status.busy": "2023-08-18T11:47:22.62881Z",
          "iopub.execute_input": "2023-08-18T11:47:22.629206Z",
          "iopub.status.idle": "2023-08-18T11:47:22.659481Z",
          "shell.execute_reply.started": "2023-08-18T11:47:22.629173Z",
          "shell.execute_reply": "2023-08-18T11:47:22.658104Z"
        },
        "trusted": true,
        "id": "kJAvq25yywju"
      },
      "execution_count": null,
      "outputs": []
    },
    {
      "cell_type": "code",
      "source": [
        "# Let's check our data\n",
        "\n",
        "inflation"
      ],
      "metadata": {
        "execution": {
          "iopub.status.busy": "2023-08-18T11:47:22.662208Z",
          "iopub.execute_input": "2023-08-18T11:47:22.662802Z",
          "iopub.status.idle": "2023-08-18T11:47:22.689548Z",
          "shell.execute_reply.started": "2023-08-18T11:47:22.662755Z",
          "shell.execute_reply": "2023-08-18T11:47:22.687986Z"
        },
        "trusted": true,
        "id": "aNMAjgquywjv"
      },
      "execution_count": null,
      "outputs": []
    },
    {
      "cell_type": "markdown",
      "source": [
        "**As you can see our data contains 8 different columns that we have to clarify which ones we'll use **"
      ],
      "metadata": {
        "id": "fYH7Jcchywjw"
      }
    },
    {
      "cell_type": "code",
      "source": [
        "#Let's check the amount of null values in our data\n",
        "\n",
        "inflation.isnull().sum()"
      ],
      "metadata": {
        "execution": {
          "iopub.status.busy": "2023-08-18T11:47:22.691329Z",
          "iopub.execute_input": "2023-08-18T11:47:22.691832Z",
          "iopub.status.idle": "2023-08-18T11:47:22.709182Z",
          "shell.execute_reply.started": "2023-08-18T11:47:22.69179Z",
          "shell.execute_reply": "2023-08-18T11:47:22.707357Z"
        },
        "trusted": true,
        "id": "ks_ePOD-ywjx"
      },
      "execution_count": null,
      "outputs": []
    },
    {
      "cell_type": "code",
      "source": [
        "# Let's check the shape\n",
        "\n",
        "inflation.shape"
      ],
      "metadata": {
        "execution": {
          "iopub.status.busy": "2023-08-18T11:47:22.711949Z",
          "iopub.execute_input": "2023-08-18T11:47:22.712349Z",
          "iopub.status.idle": "2023-08-18T11:47:22.726995Z",
          "shell.execute_reply.started": "2023-08-18T11:47:22.712295Z",
          "shell.execute_reply": "2023-08-18T11:47:22.725043Z"
        },
        "trusted": true,
        "id": "ZfRMwuNpywjy"
      },
      "execution_count": null,
      "outputs": []
    },
    {
      "cell_type": "code",
      "source": [
        "# Let's check the info\n",
        "\n",
        "inflation.info()"
      ],
      "metadata": {
        "execution": {
          "iopub.status.busy": "2023-08-18T11:47:22.728844Z",
          "iopub.execute_input": "2023-08-18T11:47:22.72921Z",
          "iopub.status.idle": "2023-08-18T11:47:22.753767Z",
          "shell.execute_reply.started": "2023-08-18T11:47:22.729171Z",
          "shell.execute_reply": "2023-08-18T11:47:22.752507Z"
        },
        "trusted": true,
        "id": "s-BMBbhCywjz"
      },
      "execution_count": null,
      "outputs": []
    },
    {
      "cell_type": "code",
      "source": [
        "# Let's create our correlation heatmap with seaborn, for the sake of graph let's drop columns which contains object data\n",
        "inflation_numeric = inflation.drop(['country', 'ISO3', 'date'], axis=1)\n",
        "\n",
        "sns.heatmap(inflation_numeric.corr(), cmap='crest', linewidth=.5, annot=True, square=True)\n",
        "plt.show()"
      ],
      "metadata": {
        "execution": {
          "iopub.status.busy": "2023-08-18T11:47:22.755485Z",
          "iopub.execute_input": "2023-08-18T11:47:22.755994Z",
          "iopub.status.idle": "2023-08-18T11:47:23.1638Z",
          "shell.execute_reply.started": "2023-08-18T11:47:22.755956Z",
          "shell.execute_reply": "2023-08-18T11:47:23.162378Z"
        },
        "trusted": true,
        "id": "iVimHGwqywjz"
      },
      "execution_count": null,
      "outputs": []
    },
    {
      "cell_type": "markdown",
      "source": [
        "# ANALYZING, VISUALIZATION AND DATA PREPROCESSING"
      ],
      "metadata": {
        "id": "X7ApLjQxywj0"
      }
    },
    {
      "cell_type": "code",
      "source": [
        "#Let's first deal with the null values so we can visualize easily\n",
        "\n",
        "inflation.isnull().sum()"
      ],
      "metadata": {
        "execution": {
          "iopub.status.busy": "2023-08-18T11:47:23.165195Z",
          "iopub.execute_input": "2023-08-18T11:47:23.16565Z",
          "iopub.status.idle": "2023-08-18T11:47:23.181594Z",
          "shell.execute_reply.started": "2023-08-18T11:47:23.165612Z",
          "shell.execute_reply": "2023-08-18T11:47:23.180108Z"
        },
        "trusted": true,
        "id": "9fScWpxyywj0"
      },
      "execution_count": null,
      "outputs": []
    },
    {
      "cell_type": "code",
      "source": [
        "# In Open, High, Low and Close columns, I think the method is filling the null values with mode(you can use other methods too)\n",
        "mode_open = inflation['Open'].mode().iloc[0]\n",
        "inflation['Open'] = inflation['Open'].fillna(value=mode_open)\n",
        "\n",
        "mode_close = inflation['Close'].mode().iloc[0]\n",
        "inflation['Close'] = inflation['Close'].fillna(value=mode_close)\n",
        "\n",
        "mode_high = inflation['High'].mode().iloc[0]\n",
        "inflation['High'] = inflation['High'].fillna(value=mode_high)\n",
        "\n",
        "mode_low = inflation['Low'].mode().iloc[0]\n",
        "inflation['Low'] = inflation['Low'].fillna(value=mode_low)"
      ],
      "metadata": {
        "execution": {
          "iopub.status.busy": "2023-08-18T11:47:23.186438Z",
          "iopub.execute_input": "2023-08-18T11:47:23.18693Z",
          "iopub.status.idle": "2023-08-18T11:47:23.203359Z",
          "shell.execute_reply.started": "2023-08-18T11:47:23.186894Z",
          "shell.execute_reply": "2023-08-18T11:47:23.201925Z"
        },
        "trusted": true,
        "id": "MLbt5wneywj1"
      },
      "execution_count": null,
      "outputs": []
    },
    {
      "cell_type": "code",
      "source": [
        "#I used a basic way to deal with null values because number of columns in our data is low(so you can try more advanced ways)\n",
        "inflation.isnull().sum()\n"
      ],
      "metadata": {
        "execution": {
          "iopub.status.busy": "2023-08-18T11:47:23.205224Z",
          "iopub.execute_input": "2023-08-18T11:47:23.205675Z",
          "iopub.status.idle": "2023-08-18T11:47:23.222324Z",
          "shell.execute_reply.started": "2023-08-18T11:47:23.205639Z",
          "shell.execute_reply": "2023-08-18T11:47:23.221096Z"
        },
        "trusted": true,
        "id": "0ebZDjrLywj1"
      },
      "execution_count": null,
      "outputs": []
    },
    {
      "cell_type": "code",
      "source": [
        "#Now let's convert our date column object to datetime\n",
        "\n",
        "inflation['date'] = pd.to_datetime(inflation['date'])"
      ],
      "metadata": {
        "execution": {
          "iopub.status.busy": "2023-08-18T11:47:23.223962Z",
          "iopub.execute_input": "2023-08-18T11:47:23.22435Z",
          "iopub.status.idle": "2023-08-18T11:47:23.238834Z",
          "shell.execute_reply.started": "2023-08-18T11:47:23.224316Z",
          "shell.execute_reply": "2023-08-18T11:47:23.237809Z"
        },
        "trusted": true,
        "id": "y1pCBEVaywj1"
      },
      "execution_count": null,
      "outputs": []
    },
    {
      "cell_type": "code",
      "source": [
        "#Let's make date an index because we are working on a time-series data\n",
        "inflation.set_index('date', inplace=True)"
      ],
      "metadata": {
        "execution": {
          "iopub.status.busy": "2023-08-18T11:47:23.240591Z",
          "iopub.execute_input": "2023-08-18T11:47:23.240975Z",
          "iopub.status.idle": "2023-08-18T11:47:23.253422Z",
          "shell.execute_reply.started": "2023-08-18T11:47:23.240941Z",
          "shell.execute_reply": "2023-08-18T11:47:23.251964Z"
        },
        "trusted": true,
        "id": "ue2qHW-qywj1"
      },
      "execution_count": null,
      "outputs": []
    },
    {
      "cell_type": "code",
      "source": [
        "#I think the best way to handle with null values in Inflation column is to delete them because filling them can make our model worse\n",
        "\n",
        "inflation = inflation.dropna(axis=0)"
      ],
      "metadata": {
        "execution": {
          "iopub.status.busy": "2023-08-18T11:47:23.255466Z",
          "iopub.execute_input": "2023-08-18T11:47:23.256402Z",
          "iopub.status.idle": "2023-08-18T11:47:23.270937Z",
          "shell.execute_reply.started": "2023-08-18T11:47:23.256351Z",
          "shell.execute_reply": "2023-08-18T11:47:23.269375Z"
        },
        "trusted": true,
        "id": "DUiOyavSywj2"
      },
      "execution_count": null,
      "outputs": []
    },
    {
      "cell_type": "code",
      "source": [
        "# Now our data is clean so we can make some visualization\n",
        "\n",
        "plt.figure(figsize=(10, 6))\n",
        "plt.plot(inflation['Close'], label='Close Value', color='blue')\n",
        "plt.plot(inflation['High'], label='High Value', color='red')\n",
        "plt.plot(inflation['Low'], label='Low Value', color='green')\n",
        "plt.plot(inflation['Open'], label='Open Value', color='purple')\n",
        "plt.title('Time Series Plot of Close Price')\n",
        "plt.xlabel('Date')\n",
        "plt.ylabel('Value')\n",
        "plt.legend()\n",
        "plt.grid(True)\n",
        "plt.show()"
      ],
      "metadata": {
        "execution": {
          "iopub.status.busy": "2023-08-18T11:47:23.272309Z",
          "iopub.execute_input": "2023-08-18T11:47:23.273182Z",
          "iopub.status.idle": "2023-08-18T11:47:23.833868Z",
          "shell.execute_reply.started": "2023-08-18T11:47:23.273143Z",
          "shell.execute_reply": "2023-08-18T11:47:23.83251Z"
        },
        "trusted": true,
        "id": "bAhaJSBOywj2"
      },
      "execution_count": null,
      "outputs": []
    },
    {
      "cell_type": "code",
      "source": [
        "inflation.describe()"
      ],
      "metadata": {
        "execution": {
          "iopub.status.busy": "2023-08-18T11:47:23.835641Z",
          "iopub.execute_input": "2023-08-18T11:47:23.836034Z",
          "iopub.status.idle": "2023-08-18T11:47:23.871005Z",
          "shell.execute_reply.started": "2023-08-18T11:47:23.836001Z",
          "shell.execute_reply": "2023-08-18T11:47:23.869492Z"
        },
        "trusted": true,
        "id": "Hpi6fn8Bywj2"
      },
      "execution_count": null,
      "outputs": []
    },
    {
      "cell_type": "code",
      "source": [
        "unique_countries = inflation['country'].unique()"
      ],
      "metadata": {
        "execution": {
          "iopub.status.busy": "2023-08-18T11:47:23.872779Z",
          "iopub.execute_input": "2023-08-18T11:47:23.873261Z",
          "iopub.status.idle": "2023-08-18T11:47:23.880416Z",
          "shell.execute_reply.started": "2023-08-18T11:47:23.873213Z",
          "shell.execute_reply": "2023-08-18T11:47:23.878972Z"
        },
        "trusted": true,
        "id": "5hfPf4Hoywj3"
      },
      "execution_count": null,
      "outputs": []
    },
    {
      "cell_type": "code",
      "source": [
        "#Let's check time-series for each country\n",
        "for country in unique_countries:\n",
        "    country_data = inflation[inflation['country'] == country]\n",
        "\n",
        "    plt.figure(figsize=(10, 6))\n",
        "    plt.plot(country_data['Open'], label='Open Price', color='red')\n",
        "    plt.plot(country_data['High'], label='High Price', color='green')\n",
        "    plt.plot(country_data['Low'], label='Low Price', color='blue')\n",
        "    plt.plot(country_data['Close'], label='Close Price', color='black')\n",
        "\n",
        "    plt.title(f'Time Series Plot of Price Variations - {country}')\n",
        "    plt.xlabel('Date')\n",
        "    plt.ylabel('Price')\n",
        "    plt.legend()\n",
        "    plt.grid(True)\n",
        "    plt.show()\n",
        "\n",
        "\n",
        "\n",
        "\n",
        "\n",
        "\n",
        "\n",
        "\n"
      ],
      "metadata": {
        "execution": {
          "iopub.status.busy": "2023-08-18T11:47:23.882379Z",
          "iopub.execute_input": "2023-08-18T11:47:23.882848Z",
          "iopub.status.idle": "2023-08-18T11:47:35.927401Z",
          "shell.execute_reply.started": "2023-08-18T11:47:23.882809Z",
          "shell.execute_reply": "2023-08-18T11:47:35.926355Z"
        },
        "trusted": true,
        "id": "Vh8izawIywj3"
      },
      "execution_count": null,
      "outputs": []
    },
    {
      "cell_type": "code",
      "source": [
        "for country in unique_countries:\n",
        "    country_data = inflation[inflation['country'] == country]\n",
        "    plt.figure(figsize=(10,6))\n",
        "    plt.plot(country_data['Inflation'], label='Inflation', color='red')\n",
        "\n",
        "    plt.title(f'Time Series Plot of Inflation Variations - {country}')\n",
        "    plt.xlabel('Date')\n",
        "    plt.ylabel('Inflation')\n",
        "    plt.legend()\n",
        "    plt.grid(True)\n",
        "    plt.show()"
      ],
      "metadata": {
        "execution": {
          "iopub.status.busy": "2023-08-18T11:47:35.928843Z",
          "iopub.execute_input": "2023-08-18T11:47:35.92923Z",
          "iopub.status.idle": "2023-08-18T11:47:47.233574Z",
          "shell.execute_reply.started": "2023-08-18T11:47:35.929168Z",
          "shell.execute_reply": "2023-08-18T11:47:47.232201Z"
        },
        "trusted": true,
        "id": "brd2zzR6ywj3"
      },
      "execution_count": null,
      "outputs": []
    },
    {
      "cell_type": "markdown",
      "source": [
        "# STATIONARITY TEST"
      ],
      "metadata": {
        "id": "pfAuwE3Fywj3"
      }
    },
    {
      "cell_type": "code",
      "source": [
        "def adf_test(series):\n",
        "    result = adfuller(series)\n",
        "    return result[1]"
      ],
      "metadata": {
        "execution": {
          "iopub.status.busy": "2023-08-18T11:47:47.235169Z",
          "iopub.execute_input": "2023-08-18T11:47:47.236107Z",
          "iopub.status.idle": "2023-08-18T11:47:47.240988Z",
          "shell.execute_reply.started": "2023-08-18T11:47:47.236066Z",
          "shell.execute_reply": "2023-08-18T11:47:47.24006Z"
        },
        "trusted": true,
        "id": "tBs58Sgbywj4"
      },
      "execution_count": null,
      "outputs": []
    },
    {
      "cell_type": "code",
      "source": [
        "#Now let's make a stationarity test with the help of ADF test\n",
        "for country in unique_countries:\n",
        "    country_data = inflation[inflation['country'] == country]\n",
        "    p_value = adf_test(country_data['Inflation'])\n",
        "\n",
        "    print(f\"Country: {country}, p-value: {p_value:.4f}\")\n"
      ],
      "metadata": {
        "execution": {
          "iopub.status.busy": "2023-08-18T11:47:47.245478Z",
          "iopub.execute_input": "2023-08-18T11:47:47.246352Z",
          "iopub.status.idle": "2023-08-18T11:47:47.538583Z",
          "shell.execute_reply.started": "2023-08-18T11:47:47.246297Z",
          "shell.execute_reply": "2023-08-18T11:47:47.53724Z"
        },
        "trusted": true,
        "id": "YusX60AJywj4"
      },
      "execution_count": null,
      "outputs": []
    },
    {
      "cell_type": "markdown",
      "source": [
        "Now we can understand that some countries inflation time series is stationary some of them is not (if p-value is less than 0.05 it mean its stationary)"
      ],
      "metadata": {
        "id": "EW4271-oywj4"
      }
    },
    {
      "cell_type": "markdown",
      "source": [
        "# TRAIN ARIMA AND ARMA MODEL"
      ],
      "metadata": {
        "id": "AHgO_170ywj5"
      }
    },
    {
      "cell_type": "code",
      "source": [
        "#Let's pick a specific country and use one of these models\n",
        "\n",
        "country_to_train = 'Iraq'\n",
        "country_data = inflation[inflation['country'] == country_to_train]['Inflation']"
      ],
      "metadata": {
        "execution": {
          "iopub.status.busy": "2023-08-18T11:47:47.540365Z",
          "iopub.execute_input": "2023-08-18T11:47:47.540771Z",
          "iopub.status.idle": "2023-08-18T11:47:47.549645Z",
          "shell.execute_reply.started": "2023-08-18T11:47:47.540736Z",
          "shell.execute_reply": "2023-08-18T11:47:47.54828Z"
        },
        "trusted": true,
        "id": "oQhD-vS2ywj5"
      },
      "execution_count": null,
      "outputs": []
    },
    {
      "cell_type": "code",
      "source": [
        "country_data"
      ],
      "metadata": {
        "execution": {
          "iopub.status.busy": "2023-08-18T11:47:47.551999Z",
          "iopub.execute_input": "2023-08-18T11:47:47.552404Z",
          "iopub.status.idle": "2023-08-18T11:47:47.569863Z",
          "shell.execute_reply.started": "2023-08-18T11:47:47.552358Z",
          "shell.execute_reply": "2023-08-18T11:47:47.568236Z"
        },
        "trusted": true,
        "id": "25fdQrmjywj5"
      },
      "execution_count": null,
      "outputs": []
    },
    {
      "cell_type": "code",
      "source": [
        "plt.figure(figsize=(12, 6))\n",
        "plot_acf(country_data, lags=30, title=f'ACF for {country_to_train} Inflation')\n",
        "plot_pacf(country_data, lags=30, title=f'PACF for {country_to_train} Inflation')\n",
        "plt.show()"
      ],
      "metadata": {
        "execution": {
          "iopub.status.busy": "2023-08-18T11:47:47.571791Z",
          "iopub.execute_input": "2023-08-18T11:47:47.572267Z",
          "iopub.status.idle": "2023-08-18T11:47:48.2091Z",
          "shell.execute_reply.started": "2023-08-18T11:47:47.572222Z",
          "shell.execute_reply": "2023-08-18T11:47:48.207626Z"
        },
        "trusted": true,
        "id": "UO3w5eOvywj6"
      },
      "execution_count": null,
      "outputs": []
    },
    {
      "cell_type": "code",
      "source": [
        "train_size = int(0.8 * len(country_data))\n",
        "train_data, test_data = country_data[:train_size], country_data[train_size:]"
      ],
      "metadata": {
        "execution": {
          "iopub.status.busy": "2023-08-18T11:47:48.210595Z",
          "iopub.execute_input": "2023-08-18T11:47:48.211186Z",
          "iopub.status.idle": "2023-08-18T11:47:48.217357Z",
          "shell.execute_reply.started": "2023-08-18T11:47:48.211152Z",
          "shell.execute_reply": "2023-08-18T11:47:48.216253Z"
        },
        "trusted": true,
        "id": "lCD1S8JGywj6"
      },
      "execution_count": null,
      "outputs": []
    },
    {
      "cell_type": "code",
      "source": [
        "model = ARIMA(train_data, order=(2, 1, 1))\n",
        "model_fit = model.fit()"
      ],
      "metadata": {
        "execution": {
          "iopub.status.busy": "2023-08-18T11:47:48.218832Z",
          "iopub.execute_input": "2023-08-18T11:47:48.219871Z",
          "iopub.status.idle": "2023-08-18T11:47:48.320456Z",
          "shell.execute_reply.started": "2023-08-18T11:47:48.219832Z",
          "shell.execute_reply": "2023-08-18T11:47:48.319076Z"
        },
        "trusted": true,
        "id": "cn4oWcEeywj7"
      },
      "execution_count": null,
      "outputs": []
    },
    {
      "cell_type": "code",
      "source": [
        "predictions = model_fit.forecast(steps=len(test_data))"
      ],
      "metadata": {
        "execution": {
          "iopub.status.busy": "2023-08-18T11:47:48.322003Z",
          "iopub.execute_input": "2023-08-18T11:47:48.322385Z",
          "iopub.status.idle": "2023-08-18T11:47:48.338182Z",
          "shell.execute_reply.started": "2023-08-18T11:47:48.32235Z",
          "shell.execute_reply": "2023-08-18T11:47:48.337201Z"
        },
        "trusted": true,
        "id": "MTWIDPYOywj7"
      },
      "execution_count": null,
      "outputs": []
    },
    {
      "cell_type": "code",
      "source": [
        "plt.figure(figsize=(10, 6))\n",
        "plt.plot(test_data.index, test_data, label='Actual Inflation', color='blue')\n",
        "plt.plot(test_data.index, predictions, label='Predicted Inflation', color='red')\n",
        "plt.title(f'Predicted vs. Actual Inflation for {country_to_train}')\n",
        "plt.xlabel('Date')\n",
        "plt.ylabel('Inflation')\n",
        "plt.legend()\n",
        "plt.grid(True)\n",
        "plt.show()"
      ],
      "metadata": {
        "execution": {
          "iopub.status.busy": "2023-08-18T11:47:48.339722Z",
          "iopub.execute_input": "2023-08-18T11:47:48.34091Z",
          "iopub.status.idle": "2023-08-18T11:47:48.771169Z",
          "shell.execute_reply.started": "2023-08-18T11:47:48.340832Z",
          "shell.execute_reply": "2023-08-18T11:47:48.769962Z"
        },
        "trusted": true,
        "id": "avlaqu7uywj8"
      },
      "execution_count": null,
      "outputs": []
    },
    {
      "cell_type": "code",
      "source": [
        "mse = mean_squared_error(test_data, predictions)\n",
        "print(f\"Mean Squared Error: {mse:.4f}\")"
      ],
      "metadata": {
        "execution": {
          "iopub.status.busy": "2023-08-18T11:47:48.772706Z",
          "iopub.execute_input": "2023-08-18T11:47:48.773764Z",
          "iopub.status.idle": "2023-08-18T11:47:48.781051Z",
          "shell.execute_reply.started": "2023-08-18T11:47:48.773722Z",
          "shell.execute_reply": "2023-08-18T11:47:48.779909Z"
        },
        "trusted": true,
        "id": "l0-s2apGywj8"
      },
      "execution_count": null,
      "outputs": []
    },
    {
      "cell_type": "code",
      "source": [
        "forecast_steps = 12  # Number of steps to forecast\n",
        "forecast = model_fit.forecast(steps=forecast_steps)"
      ],
      "metadata": {
        "execution": {
          "iopub.status.busy": "2023-08-18T11:47:48.782654Z",
          "iopub.execute_input": "2023-08-18T11:47:48.783506Z",
          "iopub.status.idle": "2023-08-18T11:47:48.80374Z",
          "shell.execute_reply.started": "2023-08-18T11:47:48.78347Z",
          "shell.execute_reply": "2023-08-18T11:47:48.802083Z"
        },
        "trusted": true,
        "id": "oAI0NSx4ywj8"
      },
      "execution_count": null,
      "outputs": []
    },
    {
      "cell_type": "code",
      "source": [
        "plt.figure(figsize=(10, 6))\n",
        "plt.plot(country_data.index, country_data, label='Historical Inflation', color='blue')\n",
        "plt.plot(forecast.index, forecast, label='Forecasted Inflation', color='red')\n",
        "plt.title(f'Forecasted Inflation for {country_to_train}')\n",
        "plt.xlabel('Date')\n",
        "plt.ylabel('Inflation')\n",
        "plt.legend()\n",
        "plt.grid(True)\n",
        "plt.show()"
      ],
      "metadata": {
        "execution": {
          "iopub.status.busy": "2023-08-18T11:47:48.805347Z",
          "iopub.execute_input": "2023-08-18T11:47:48.805748Z",
          "iopub.status.idle": "2023-08-18T11:47:49.238006Z",
          "shell.execute_reply.started": "2023-08-18T11:47:48.805715Z",
          "shell.execute_reply": "2023-08-18T11:47:49.236892Z"
        },
        "trusted": true,
        "id": "ho7x0XYGywj9"
      },
      "execution_count": null,
      "outputs": []
    },
    {
      "cell_type": "markdown",
      "source": [
        "# CONCLUSION"
      ],
      "metadata": {
        "id": "Wlz6WHntywj9"
      }
    },
    {
      "cell_type": "markdown",
      "source": [
        "OUR ARIMA MODEL DID NOT PERFOMED SO WELL BUT WE GET MEAN SQUARED ERROR:9 , BUT IF WE LOOK AT THE GRAPH PERDICTION IS NOT THAT GOOD, SO WE HAVE TO CHANGE DIFFERENT PARAMETERS OR USE FINE TUNNING MODELS"
      ],
      "metadata": {
        "id": "cyntOzJoywj9"
      }
    },
    {
      "cell_type": "code",
      "source": [],
      "metadata": {
        "id": "oUNyXP4tywkM"
      },
      "execution_count": null,
      "outputs": []
    }
  ]
}